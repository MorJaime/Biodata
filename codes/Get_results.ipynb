{
 "cells": [
  {
   "cell_type": "code",
   "execution_count": null,
   "metadata": {},
   "outputs": [],
   "source": [
    "%matplotlib notebook\n",
    "\n",
    "import os\n",
    "import glob\n",
    "import math\n",
    "import sklearn\n",
    "import pandas as pd\n",
    "import numpy as np\n",
    "import itertools\n",
    "import random\n",
    "\n",
    "from sklearn.metrics import classification_report, confusion_matrix\n",
    "from sklearn import preprocessing\n",
    "from sklearn.preprocessing import LabelBinarizer, MultiLabelBinarizer, normalize\n",
    "from sklearn.preprocessing import MinMaxScaler\n",
    "\n",
    "import matplotlib.pyplot as plt\n",
    "import matplotlib.animation as animation\n",
    "import matplotlib.patches as patches\n",
    "\n",
    "import tensorflow as tf\n",
    "from tensorflow import keras\n",
    "from keras import backend as K\n",
    "from keras.utils import np_utils\n",
    "from keras.utils.vis_utils import model_to_dot\n",
    "from keras.callbacks import EarlyStopping\n",
    "from IPython.display import SVG\n",
    "\n",
    "import tensorflow_probability as tfp\n",
    "\n",
    "import warnings\n",
    "\n",
    "warnings.filterwarnings('ignore')\n",
    "\n",
    "from ipywidgets import FloatProgress\n",
    "from IPython.display import display\n",
    "\n",
    "fig_width = 12\n",
    "plt.rcParams[\"font.size\"] = 7"
   ]
  },
  {
   "cell_type": "code",
   "execution_count": null,
   "metadata": {},
   "outputs": [],
   "source": [
    "def join_res_data(mycsvdir):\n",
    "    \n",
    "    csvfiles = glob.glob(os.path.join(mycsvdir, '*.csv'))\n",
    "    dataframes = []\n",
    "    \n",
    "    for csvfile in csvfiles:\n",
    "        #print(csvfile)\n",
    "        df = pd.read_csv(csvfile)\n",
    "        print(df)\n",
    "        dataframes.append(df)\n",
    "    result = pd.concat(dataframes, ignore_index=True)\n",
    "    \n",
    "    return result"
   ]
  },
  {
   "cell_type": "code",
   "execution_count": null,
   "metadata": {},
   "outputs": [],
   "source": [
    "def get_activity_index(act_dict):\n",
    "    labels = []\n",
    "    indices = []\n",
    "    for k,v in act_dict.items():\n",
    "        indices.append(k)\n",
    "        labels.append(v)\n",
    "    return labels, indices\n",
    "\n",
    "def plot_confusion_matrix(cm, fig, cm_plt, classes,\n",
    "                          normalize=False,\n",
    "                          title='Confusion matrix',\n",
    "                          cmap=plt.cm.Blues):\n",
    "    \n",
    "    if normalize:\n",
    "        cm = cm.astype('float') / cm.sum(axis=1)[:, np.newaxis]\n",
    "        print(\"Normalized confusion matrix\")\n",
    "    else:\n",
    "        print('Confusion matrix, without normalization')\n",
    "\n",
    "    #print(cm)\n",
    "\n",
    "    simg = cm_plt.imshow(cm, interpolation='nearest', cmap=cmap)\n",
    "    cm_plt.set_title(title)\n",
    "    tick_marks = np.arange(len(classes))\n",
    "    cm_plt.set_xticks(tick_marks)\n",
    "    cm_plt.set_yticks(tick_marks)\n",
    "    cm_plt.set_xticklabels(classes)\n",
    "    cm_plt.set_yticklabels(classes)\n",
    "    cm_plt.tick_params(axis='both', which='major', labelsize=10)\n",
    "    cm_plt.tick_params(axis='both', which='minor', labelsize=8)\n",
    "    fig.colorbar(simg)\n",
    "    \n",
    "    \n",
    "    plt.setp(cm_plt.get_xticklabels(), rotation=45, horizontalalignment='right')\n",
    "\n",
    "    fmt = '.2f' if normalize else 'd'\n",
    "    thresh = cm.max() / 2.\n",
    "    for i, j in itertools.product(range(cm.shape[0]), range(cm.shape[1])):\n",
    "        plt.text(j, i, format(cm[i, j], fmt),\n",
    "                 horizontalalignment=\"center\",\n",
    "                 color=\"white\" if cm[i, j] > thresh else \"black\")\n",
    "\n",
    "    cm_plt.set_ylabel('True label')\n",
    "    cm_plt.set_xlabel('Predicted label')\n",
    "    #cm_plt.tight_layout()"
   ]
  },
  {
   "cell_type": "code",
   "execution_count": null,
   "metadata": {},
   "outputs": [],
   "source": [
    "simclass_df = pd.read_csv(r'G:\\JaimeMorales\\Codes\\MGA-net\\datasets\\OpenPack\\labels.csv')\n",
    "simclass_d = simclass_df['operation_l'].to_dict()\n",
    "#del simclass_d[8]\n",
    "#del simclass_d[10]\n",
    "target_names,indices = get_activity_index(simclass_d)"
   ]
  },
  {
   "cell_type": "code",
   "execution_count": null,
   "metadata": {},
   "outputs": [],
   "source": [
    "simclass_d"
   ]
  },
  {
   "cell_type": "code",
   "execution_count": null,
   "metadata": {},
   "outputs": [],
   "source": [
    "#simclass_d = {0:jumbi1,1:neji1,2:neji2,3:neji3,4:neji4,5:neji5,6:neji6,7:neji7,8:neji8,9:button,10:haraidashi}"
   ]
  },
  {
   "cell_type": "code",
   "execution_count": null,
   "metadata": {},
   "outputs": [],
   "source": [
    "indices"
   ]
  },
  {
   "cell_type": "code",
   "execution_count": null,
   "metadata": {},
   "outputs": [],
   "source": [
    "#day_res_df = join_res_data(r'C:\\Users\\Jaime\\Documents\\JaimeMorales\\Codes\\HAR_acc\\acc2\\results\\LSTM\\3')\n",
    "#day_res_df = join_res_data(r'C:\\Users\\Jaime\\Documents\\JaimeMorales\\Codes\\HAR_acc\\acc2\\results\\LSTM\\4')\n",
    "#day_res_df = join_res_data(r'C:\\Users\\Jaime\\Documents\\JaimeMorales\\Codes\\HAR_acc\\acc2\\results\\LSTM\\5')\n",
    "#day_res_df = join_res_data(r'C:\\Users\\Jaime\\Documents\\JaimeMorales\\Codes\\HAR_acc\\acc2\\results\\LSTM\\6')"
   ]
  },
  {
   "cell_type": "code",
   "execution_count": null,
   "metadata": {},
   "outputs": [],
   "source": [
    "#day_res_df = join_res_data(r'C:/Users/Jaime/Documents/JaimeMorales/Codes/HAR_acc/acc2/results/Pure_Unet\\3')\n",
    "#day_res_df = join_res_data(r'C:/Users/Jaime/Documents/JaimeMorales/Codes/HAR_acc/acc2/results/Pure_Unet\\4')\n",
    "#day_res_df = join_res_data(r'C:/Users/Jaime/Documents/JaimeMorales/Codes/HAR_acc/acc2/results/Pure_Unet\\5')\n",
    "#day_res_df = join_res_data(r'C:/Users/Jaime/Documents/JaimeMorales/Codes/HAR_acc/acc2/results/Pure_Unet\\6')"
   ]
  },
  {
   "cell_type": "code",
   "execution_count": null,
   "metadata": {},
   "outputs": [],
   "source": [
    "day_res_df = join_res_data(r'G:\\JaimeMorales\\Codes\\MGA-net\\datasets\\OpenPack\\Results\\MGA-Net\\U0108')"
   ]
  },
  {
   "cell_type": "code",
   "execution_count": null,
   "metadata": {},
   "outputs": [],
   "source": [
    "#day_res_df = join_res_data(r'C:\\Users\\Jaime\\Documents\\JaimeMorales\\Codes\\HAR_acc\\acc2\\results\\Test-17-08\\Self-Att-con\\3')\n",
    "#day_res_df = join_res_data(r'C:\\Users\\Jaime\\Documents\\JaimeMorales\\Codes\\HAR_acc\\acc2\\results\\Test-17-08\\Self-Att-con\\4')\n",
    "#day_res_df = join_res_data(r'C:\\Users\\Jaime\\Documents\\JaimeMorales\\Codes\\HAR_acc\\acc2\\results\\Test-17-08\\Self-Att-con\\5')\n",
    "#day_res_df = join_res_data(r'C:\\Users\\Jaime\\Documents\\JaimeMorales\\Codes\\HAR_acc\\acc2\\results\\Test-17-08\\Self-Att-con\\6')"
   ]
  },
  {
   "cell_type": "code",
   "execution_count": null,
   "metadata": {},
   "outputs": [],
   "source": [
    "#day_res_df = join_res_data(r'C:\\Users\\Jaime\\Documents\\JaimeMorales\\Codes\\HAR_acc\\acc2\\results\\extra\\1_Pure-Unet\\3')\n",
    "#day_res_df = join_res_data(r'C:\\Users\\Jaime\\Documents\\JaimeMorales\\Codes\\HAR_acc\\acc2\\results\\extra\\1_Pure-Unet\\4')\n",
    "#day_res_df = join_res_data(r'C:\\Users\\Jaime\\Documents\\JaimeMorales\\Codes\\HAR_acc\\acc2\\results\\extra\\1_Pure-Unet\\5')\n",
    "#day_res_df = join_res_data(r'C:\\Users\\Jaime\\Documents\\JaimeMorales\\Codes\\HAR_acc\\acc2\\results\\Testing-6-4\\Pure_Unet\\3')"
   ]
  },
  {
   "cell_type": "code",
   "execution_count": null,
   "metadata": {},
   "outputs": [],
   "source": [
    "#day_res_df = join_res_data(r'C:\\Users\\Jaime\\Documents\\JaimeMorales\\Codes\\HAR_acc\\acc2\\results\\Test-27-07\\LSTM-Att\\3')\n",
    "#day_res_df = join_res_data(r'C:\\Users\\Jaime\\Documents\\JaimeMorales\\Codes\\HAR_acc\\acc2\\results\\Test-27-07\\LSTM-Att\\4')\n",
    "#day_res_df = join_res_data(r'C:\\Users\\Jaime\\Documents\\JaimeMorales\\Codes\\HAR_acc\\acc2\\results\\Test-27-07\\LSTM-Att\\5')\n",
    "#day_res_df = join_res_data(r'C:\\Users\\Jaime\\Documents\\JaimeMorales\\Codes\\HAR_acc\\acc2\\results\\Test-27-07\\LSTM-Att\\6')"
   ]
  },
  {
   "cell_type": "code",
   "execution_count": null,
   "metadata": {},
   "outputs": [],
   "source": [
    "#day_res_df = pd.read_csv(r'G:\\JaimeMorales\\Codes\\HAR_acc\\acc2\\results\\Round_2\\CNN-LSTM\\res_3_1.csv')"
   ]
  },
  {
   "cell_type": "code",
   "execution_count": null,
   "metadata": {},
   "outputs": [],
   "source": [
    "day_res_df"
   ]
  },
  {
   "cell_type": "code",
   "execution_count": null,
   "metadata": {},
   "outputs": [],
   "source": [
    "day_res_df = day_res_df[day_res_df['l_val']!=10]\n",
    "#day_res_df = day_res_df[day_res_df['l_val']!=8]"
   ]
  },
  {
   "cell_type": "code",
   "execution_count": null,
   "metadata": {},
   "outputs": [],
   "source": [
    "day_res_df = day_res_df[day_res_df['predicted_label']!=10]\n",
    "#day_res_df = day_res_df[day_res_df['predicted_label']!=8]"
   ]
  },
  {
   "cell_type": "code",
   "execution_count": null,
   "metadata": {},
   "outputs": [],
   "source": [
    "day_res_df[day_res_df['predicted_label']==10]"
   ]
  },
  {
   "cell_type": "code",
   "execution_count": null,
   "metadata": {},
   "outputs": [],
   "source": [
    "day_res_df[day_res_df['l_val']==10]"
   ]
  },
  {
   "cell_type": "code",
   "execution_count": null,
   "metadata": {},
   "outputs": [],
   "source": [
    "day_res_df"
   ]
  },
  {
   "cell_type": "code",
   "execution_count": null,
   "metadata": {},
   "outputs": [],
   "source": [
    "day_res_df.to_csv(r'G:\\JaimeMorales\\Codes\\MGA-net\\datasets\\OpenPack\\Results\\MGA-Net-with-Bi-GRU\\U0101_res.csv',index=False)"
   ]
  },
  {
   "cell_type": "code",
   "execution_count": null,
   "metadata": {},
   "outputs": [],
   "source": [
    "testYYY = np.array(list(day_res_df['l_val']))\n",
    "predict1 = np.array(list(day_res_df['predicted_label']))"
   ]
  },
  {
   "cell_type": "code",
   "execution_count": null,
   "metadata": {},
   "outputs": [],
   "source": [
    "testYYY.shape"
   ]
  },
  {
   "cell_type": "code",
   "execution_count": null,
   "metadata": {},
   "outputs": [],
   "source": [
    "predict1.shape"
   ]
  },
  {
   "cell_type": "code",
   "execution_count": null,
   "metadata": {
    "scrolled": false
   },
   "outputs": [],
   "source": [
    "cnf_matrix = confusion_matrix(testYYY, predict1)\n",
    "fig, (tr_plt,cm_plt) = plt.subplots(nrows=2, ncols=1, figsize=(6, 6))\n",
    "plot_confusion_matrix(cnf_matrix, fig, cm_plt, classes=target_names)\n",
    "fig.show()\n",
    "result = classification_report(testYYY, predict1, labels=indices, target_names=target_names)\n",
    "print(result)"
   ]
  }
 ],
 "metadata": {
  "kernelspec": {
   "display_name": "Python 3",
   "language": "python",
   "name": "python3"
  },
  "language_info": {
   "codemirror_mode": {
    "name": "ipython",
    "version": 3
   },
   "file_extension": ".py",
   "mimetype": "text/x-python",
   "name": "python",
   "nbconvert_exporter": "python",
   "pygments_lexer": "ipython3",
   "version": "3.10.9"
  }
 },
 "nbformat": 4,
 "nbformat_minor": 2
}
