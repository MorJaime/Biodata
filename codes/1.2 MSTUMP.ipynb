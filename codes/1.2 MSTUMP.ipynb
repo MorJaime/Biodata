{
 "cells": [
  {
   "cell_type": "code",
   "execution_count": 1,
   "metadata": {},
   "outputs": [
    {
     "name": "stderr",
     "output_type": "stream",
     "text": [
      "Using TensorFlow backend.\n"
     ]
    }
   ],
   "source": [
    "import os\n",
    "import glob\n",
    "import math\n",
    "import pandas as pd\n",
    "import numpy as np\n",
    "import itertools\n",
    "import random\n",
    "import requests\n",
    "import xml.etree.ElementTree as ET\n",
    "import csv\n",
    "\n",
    "import matplotlib.pyplot as plt\n",
    "import matplotlib.animation as animation\n",
    "import matplotlib.patches as patches\n",
    "\n",
    "import tensorflow as tf\n",
    "from tensorflow import keras\n",
    "from keras import backend as K\n",
    "from keras.utils import np_utils\n",
    "from keras.utils.vis_utils import model_to_dot\n",
    "from keras.callbacks import EarlyStopping\n",
    "from IPython.display import SVG\n",
    "\n",
    "import extendedMD\n",
    "from extendedMD import emd, bs, dtwdist, mdl, motifs, patterns, pca, pruning, sax, viz\n",
    "\n",
    "#import tensorflow_probability as tfp\n",
    "\n",
    "\n",
    "from sklearn.metrics import classification_report, confusion_matrix\n",
    "from sklearn import preprocessing\n",
    "from sklearn.preprocessing import LabelBinarizer, MultiLabelBinarizer, normalize\n",
    "from sklearn.preprocessing import MinMaxScaler\n",
    "import warnings\n",
    "\n",
    "warnings.filterwarnings('ignore')\n",
    "\n",
    "from ipywidgets import FloatProgress\n",
    "from IPython.display import display\n",
    "\n",
    "#fig_width = 12\n",
    "plt.rcParams[\"font.size\"] = 40\n",
    "plt.rcParams['axes.labelsize'] = 40\n",
    "plt.rcParams['axes.labelweight'] = 'bold'\n",
    "#plt.tick_params(axis='x', which='both', bottom=False, top=False, labelbottom=False)\n",
    "#plt.rcParams.keys()\n",
    "time_format=\"%Y%m%d_%H:%M:%S.%f\""
   ]
  },
  {
   "cell_type": "code",
   "execution_count": 2,
   "metadata": {},
   "outputs": [],
   "source": [
    "data = pd.read_csv(r\"G:\\JaimeMorales\\Codes\\biodata\\codes\\data\\Y22\\lbs01_acc.csv\",parse_dates=[\"timestamp\"])"
   ]
  },
  {
   "cell_type": "code",
   "execution_count": 3,
   "metadata": {},
   "outputs": [],
   "source": [
    "data[\"timestamp\"] = pd.to_datetime(data[\"timestamp\"],format=time_format)"
   ]
  },
  {
   "cell_type": "code",
   "execution_count": 4,
   "metadata": {},
   "outputs": [],
   "source": [
    "dates = []"
   ]
  },
  {
   "cell_type": "code",
   "execution_count": 5,
   "metadata": {},
   "outputs": [],
   "source": [
    "for i in range(len(data)):\n",
    "    date = str(data['timestamp'][i].date())\n",
    "    dates.append(date)"
   ]
  },
  {
   "cell_type": "code",
   "execution_count": 6,
   "metadata": {},
   "outputs": [],
   "source": [
    "data['date'] = dates"
   ]
  },
  {
   "cell_type": "code",
   "execution_count": 7,
   "metadata": {},
   "outputs": [
    {
     "data": {
      "text/html": [
       "<div>\n",
       "<style scoped>\n",
       "    .dataframe tbody tr th:only-of-type {\n",
       "        vertical-align: middle;\n",
       "    }\n",
       "\n",
       "    .dataframe tbody tr th {\n",
       "        vertical-align: top;\n",
       "    }\n",
       "\n",
       "    .dataframe thead th {\n",
       "        text-align: right;\n",
       "    }\n",
       "</style>\n",
       "<table border=\"1\" class=\"dataframe\">\n",
       "  <thead>\n",
       "    <tr style=\"text-align: right;\">\n",
       "      <th></th>\n",
       "      <th>timestamp</th>\n",
       "      <th>acc_x</th>\n",
       "      <th>acc_y</th>\n",
       "      <th>acc_z</th>\n",
       "      <th>activity_class</th>\n",
       "      <th>label</th>\n",
       "      <th>date</th>\n",
       "    </tr>\n",
       "  </thead>\n",
       "  <tbody>\n",
       "    <tr>\n",
       "      <th>0</th>\n",
       "      <td>2022-08-26 20:13:01+00:00</td>\n",
       "      <td>0.011719</td>\n",
       "      <td>-0.105469</td>\n",
       "      <td>0.273438</td>\n",
       "      <td>NaN</td>\n",
       "      <td>NaN</td>\n",
       "      <td>2022-08-26</td>\n",
       "    </tr>\n",
       "    <tr>\n",
       "      <th>1</th>\n",
       "      <td>2022-08-26 20:13:01.032000+00:00</td>\n",
       "      <td>0.105469</td>\n",
       "      <td>-0.199219</td>\n",
       "      <td>0.574219</td>\n",
       "      <td>NaN</td>\n",
       "      <td>NaN</td>\n",
       "      <td>2022-08-26</td>\n",
       "    </tr>\n",
       "    <tr>\n",
       "      <th>2</th>\n",
       "      <td>2022-08-26 20:13:01.064000+00:00</td>\n",
       "      <td>-0.183594</td>\n",
       "      <td>0.175781</td>\n",
       "      <td>0.066406</td>\n",
       "      <td>NaN</td>\n",
       "      <td>NaN</td>\n",
       "      <td>2022-08-26</td>\n",
       "    </tr>\n",
       "    <tr>\n",
       "      <th>3</th>\n",
       "      <td>2022-08-26 20:13:01.096000+00:00</td>\n",
       "      <td>-0.550781</td>\n",
       "      <td>-0.027344</td>\n",
       "      <td>-0.144531</td>\n",
       "      <td>NaN</td>\n",
       "      <td>NaN</td>\n",
       "      <td>2022-08-26</td>\n",
       "    </tr>\n",
       "    <tr>\n",
       "      <th>4</th>\n",
       "      <td>2022-08-26 20:13:01.129000+00:00</td>\n",
       "      <td>-0.363281</td>\n",
       "      <td>-0.132813</td>\n",
       "      <td>-0.035156</td>\n",
       "      <td>NaN</td>\n",
       "      <td>NaN</td>\n",
       "      <td>2022-08-26</td>\n",
       "    </tr>\n",
       "    <tr>\n",
       "      <th>...</th>\n",
       "      <td>...</td>\n",
       "      <td>...</td>\n",
       "      <td>...</td>\n",
       "      <td>...</td>\n",
       "      <td>...</td>\n",
       "      <td>...</td>\n",
       "      <td>...</td>\n",
       "    </tr>\n",
       "    <tr>\n",
       "      <th>2446484</th>\n",
       "      <td>2022-08-28 05:06:20.838000+00:00</td>\n",
       "      <td>-0.062500</td>\n",
       "      <td>-0.093750</td>\n",
       "      <td>1.839844</td>\n",
       "      <td>NaN</td>\n",
       "      <td>NaN</td>\n",
       "      <td>2022-08-28</td>\n",
       "    </tr>\n",
       "    <tr>\n",
       "      <th>2446485</th>\n",
       "      <td>2022-08-28 05:06:20.870000+00:00</td>\n",
       "      <td>-0.066406</td>\n",
       "      <td>-0.066406</td>\n",
       "      <td>1.863281</td>\n",
       "      <td>NaN</td>\n",
       "      <td>NaN</td>\n",
       "      <td>2022-08-28</td>\n",
       "    </tr>\n",
       "    <tr>\n",
       "      <th>2446486</th>\n",
       "      <td>2022-08-28 05:06:20.903000+00:00</td>\n",
       "      <td>-0.105469</td>\n",
       "      <td>-0.277344</td>\n",
       "      <td>1.867188</td>\n",
       "      <td>NaN</td>\n",
       "      <td>NaN</td>\n",
       "      <td>2022-08-28</td>\n",
       "    </tr>\n",
       "    <tr>\n",
       "      <th>2446487</th>\n",
       "      <td>2022-08-28 05:06:20.935000+00:00</td>\n",
       "      <td>-0.156250</td>\n",
       "      <td>-0.507813</td>\n",
       "      <td>1.882813</td>\n",
       "      <td>NaN</td>\n",
       "      <td>NaN</td>\n",
       "      <td>2022-08-28</td>\n",
       "    </tr>\n",
       "    <tr>\n",
       "      <th>2446488</th>\n",
       "      <td>2022-08-28 05:06:20.967000+00:00</td>\n",
       "      <td>-0.183594</td>\n",
       "      <td>-0.355469</td>\n",
       "      <td>1.835938</td>\n",
       "      <td>NaN</td>\n",
       "      <td>NaN</td>\n",
       "      <td>2022-08-28</td>\n",
       "    </tr>\n",
       "  </tbody>\n",
       "</table>\n",
       "<p>2446489 rows × 7 columns</p>\n",
       "</div>"
      ],
      "text/plain": [
       "                               timestamp     acc_x     acc_y     acc_z  \\\n",
       "0              2022-08-26 20:13:01+00:00  0.011719 -0.105469  0.273438   \n",
       "1       2022-08-26 20:13:01.032000+00:00  0.105469 -0.199219  0.574219   \n",
       "2       2022-08-26 20:13:01.064000+00:00 -0.183594  0.175781  0.066406   \n",
       "3       2022-08-26 20:13:01.096000+00:00 -0.550781 -0.027344 -0.144531   \n",
       "4       2022-08-26 20:13:01.129000+00:00 -0.363281 -0.132813 -0.035156   \n",
       "...                                  ...       ...       ...       ...   \n",
       "2446484 2022-08-28 05:06:20.838000+00:00 -0.062500 -0.093750  1.839844   \n",
       "2446485 2022-08-28 05:06:20.870000+00:00 -0.066406 -0.066406  1.863281   \n",
       "2446486 2022-08-28 05:06:20.903000+00:00 -0.105469 -0.277344  1.867188   \n",
       "2446487 2022-08-28 05:06:20.935000+00:00 -0.156250 -0.507813  1.882813   \n",
       "2446488 2022-08-28 05:06:20.967000+00:00 -0.183594 -0.355469  1.835938   \n",
       "\n",
       "         activity_class label        date  \n",
       "0                   NaN   NaN  2022-08-26  \n",
       "1                   NaN   NaN  2022-08-26  \n",
       "2                   NaN   NaN  2022-08-26  \n",
       "3                   NaN   NaN  2022-08-26  \n",
       "4                   NaN   NaN  2022-08-26  \n",
       "...                 ...   ...         ...  \n",
       "2446484             NaN   NaN  2022-08-28  \n",
       "2446485             NaN   NaN  2022-08-28  \n",
       "2446486             NaN   NaN  2022-08-28  \n",
       "2446487             NaN   NaN  2022-08-28  \n",
       "2446488             NaN   NaN  2022-08-28  \n",
       "\n",
       "[2446489 rows x 7 columns]"
      ]
     },
     "execution_count": 7,
     "metadata": {},
     "output_type": "execute_result"
    }
   ],
   "source": [
    "data"
   ]
  },
  {
   "cell_type": "code",
   "execution_count": 8,
   "metadata": {},
   "outputs": [],
   "source": [
    "data26 = data[data['date']=='2022-08-26']\n",
    "data27 = data[data['date']=='2022-08-27']\n",
    "data28 = data[data['date']=='2022-08-28']"
   ]
  },
  {
   "cell_type": "code",
   "execution_count": 9,
   "metadata": {},
   "outputs": [],
   "source": [
    "data26.drop([\"timestamp\",\"activity_class\",\"label\",\"date\"],axis=1,inplace=True)\n",
    "data27.drop([\"timestamp\",\"activity_class\",\"label\",\"date\"],axis=1,inplace=True)\n",
    "data28.drop([\"timestamp\",\"activity_class\",\"label\",\"date\"],axis=1,inplace=True)"
   ]
  },
  {
   "cell_type": "code",
   "execution_count": 10,
   "metadata": {},
   "outputs": [],
   "source": [
    "new_data = data26.iloc[0:200000]"
   ]
  },
  {
   "cell_type": "code",
   "execution_count": 11,
   "metadata": {
    "scrolled": true
   },
   "outputs": [
    {
     "name": "stdout",
     "output_type": "stream",
     "text": [
      "Motif candidates of size 1 successfully extracted\n",
      "Motif candidates of size 2 successfully extracted\n",
      "Motif candidates of size 3 successfully extracted\n",
      "Motif candidates of size 4 successfully extracted\n",
      "Motif candidates of size 5 successfully extracted\n",
      "Motif candidates of size 6 successfully extracted\n",
      "Motif candidates of size 7 successfully extracted\n",
      "Motif candidates of size 8 successfully extracted\n",
      "Motif candidates of size 9 successfully extracted\n",
      "Motif candidates of size 10 successfully extracted\n",
      "Motif candidates of size 11 successfully extracted\n",
      "Motif candidates of size 12 successfully extracted\n"
     ]
    }
   ],
   "source": [
    "motif_candidates_dic_list, ts_1d = emd.find_motifs_from_emd(new_data, 30, 10, 10, 10, adaptive_break_points=True, z_threshold=0.01)"
   ]
  },
  {
   "cell_type": "code",
   "execution_count": 12,
   "metadata": {},
   "outputs": [
    {
     "data": {
      "text/plain": [
       "200000"
      ]
     },
     "execution_count": 12,
     "metadata": {},
     "output_type": "execute_result"
    }
   ],
   "source": [
    "len(ts_1d)"
   ]
  },
  {
   "cell_type": "code",
   "execution_count": 13,
   "metadata": {},
   "outputs": [
    {
     "data": {
      "text/plain": [
       "10"
      ]
     },
     "execution_count": 13,
     "metadata": {},
     "output_type": "execute_result"
    }
   ],
   "source": [
    "len(motif_candidates_dic_list[1]['members_ts_pointers'][0])"
   ]
  },
  {
   "cell_type": "code",
   "execution_count": 14,
   "metadata": {},
   "outputs": [
    {
     "data": {
      "text/plain": [
       "{'pattern': ['jjigfddcba'],\n",
       " 'mdl_cost': 3300829.96,\n",
       " 'mean_dist': 0.43,\n",
       " 'members_ts_pointers': [[155178,\n",
       "   155179,\n",
       "   155180,\n",
       "   155181,\n",
       "   155182,\n",
       "   155183,\n",
       "   155184,\n",
       "   155185,\n",
       "   155186,\n",
       "   155187],\n",
       "  [179308,\n",
       "   179309,\n",
       "   179310,\n",
       "   179311,\n",
       "   179312,\n",
       "   179313,\n",
       "   179314,\n",
       "   179315,\n",
       "   179316,\n",
       "   179317]],\n",
       " 'center_ts_pointers': [155178,\n",
       "  155179,\n",
       "  155180,\n",
       "  155181,\n",
       "  155182,\n",
       "  155183,\n",
       "  155184,\n",
       "  155185,\n",
       "  155186,\n",
       "  155187]}"
      ]
     },
     "execution_count": 14,
     "metadata": {},
     "output_type": "execute_result"
    }
   ],
   "source": [
    "motif_candidates_dic_list[2]"
   ]
  }
 ],
 "metadata": {
  "kernelspec": {
   "display_name": "Python 3",
   "language": "python",
   "name": "python3"
  },
  "language_info": {
   "codemirror_mode": {
    "name": "ipython",
    "version": 3
   },
   "file_extension": ".py",
   "mimetype": "text/x-python",
   "name": "python",
   "nbconvert_exporter": "python",
   "pygments_lexer": "ipython3",
   "version": "3.7.9"
  }
 },
 "nbformat": 4,
 "nbformat_minor": 4
}
