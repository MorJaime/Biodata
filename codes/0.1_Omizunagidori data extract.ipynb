{
 "cells": [
  {
   "cell_type": "code",
   "execution_count": 1,
   "metadata": {},
   "outputs": [],
   "source": [
    "import os\n",
    "import glob\n",
    "import math\n",
    "import pandas as pd\n",
    "import numpy as np\n",
    "import itertools\n",
    "import random\n",
    "import requests\n",
    "import xml.etree.ElementTree as ET\n",
    "import csv\n",
    "\n",
    "import matplotlib.pyplot as plt\n",
    "import matplotlib.animation as animation\n",
    "import matplotlib.patches as patches\n",
    "\n",
    "import tensorflow as tf\n",
    "from tensorflow import keras\n",
    "from keras import backend as K\n",
    "from keras.utils import np_utils\n",
    "from keras.utils.vis_utils import model_to_dot\n",
    "from keras.callbacks import EarlyStopping\n",
    "from IPython.display import SVG\n",
    "\n",
    "#import tensorflow_probability as tfp\n",
    "\n",
    "from sklearn.metrics import classification_report, confusion_matrix\n",
    "from sklearn import preprocessing\n",
    "from sklearn.preprocessing import LabelBinarizer, MultiLabelBinarizer, normalize\n",
    "from sklearn.preprocessing import MinMaxScaler\n",
    "import warnings\n",
    "\n",
    "warnings.filterwarnings('ignore')\n",
    "\n",
    "from ipywidgets import FloatProgress\n",
    "from IPython.display import display\n",
    "\n",
    "#fig_width = 12\n",
    "plt.rcParams[\"font.size\"] = 40\n",
    "plt.rcParams['axes.labelsize'] = 40\n",
    "plt.rcParams['axes.labelweight'] = 'bold'\n",
    "#plt.tick_params(axis='x', which='both', bottom=False, top=False, labelbottom=False)\n",
    "#plt.rcParams.keys()"
   ]
  },
  {
   "cell_type": "code",
   "execution_count": 2,
   "metadata": {},
   "outputs": [],
   "source": [
    "from load_utils import time_change, setup_dir, find_xml_filenames, find_csv_filenames"
   ]
  },
  {
   "cell_type": "code",
   "execution_count": 3,
   "metadata": {},
   "outputs": [],
   "source": [
    "omizu_path = r\"G:\\JaimeMorales\\Codes\\omizunagidori\\export\\Omizunagidori\"\n",
    "umineko_path = r\"G:\\JaimeMorales\\Codes\\omizunagidori\\export\\Umineko\"\n",
    "database_path = r\"G:\\JaimeMorales\\Codes\\omizunagidori\\database\"\n",
    "database_l_path = r\"G:\\JaimeMorales\\Codes\\omizunagidori\\database\\labels\"\n",
    "database_o_acc_path = r\"G:\\JaimeMorales\\Codes\\omizunagidori\\database\\omizunagidori\"\n",
    "database_u_acc_path = r\"G:\\JaimeMorales\\Codes\\omizunagidori\\database\\umineko\""
   ]
  },
  {
   "cell_type": "code",
   "execution_count": 4,
   "metadata": {},
   "outputs": [],
   "source": [
    "def make_labels(paths, label_wr_dir = r'G:\\JaimeMorales\\Codes\\biodata\\database\\labels', fn_end = 17):\n",
    "    \n",
    "    for path in paths:\n",
    "        label_path = path\n",
    "        label_dir_p, label_fn = os.path.split(label_path)\n",
    "        wr_fn = label_fn[:fn_end]\n",
    "        tree = ET.parse(label_path)\n",
    "        root = tree.getroot()\n",
    "        filename = os.path.join(label_wr_dir,wr_fn+'_labels.csv')\n",
    "        \n",
    "        with open(filename,\"w\") as f:            \n",
    "            csv_writer = csv.writer(f)\n",
    "            header = [\"event_type\",\"start\", \"end\"]\n",
    "            csv_writer.writerow(header)\n",
    "            for labellist in root.iter(\"labellist\"):\n",
    "                timestampStart = labellist[1].text\n",
    "                timestampStart = timestampStart.replace('-','')\n",
    "                timestampStart = timestampStart.replace('T',' ')      \n",
    "                timestampStart = timestampStart.replace('Z','')\n",
    "                timestampEnd = labellist[2].text\n",
    "                timestampEnd = timestampEnd.replace('-','')\n",
    "                timestampEnd = timestampEnd.replace('T',' ')\n",
    "                timestampEnd = timestampEnd.replace('Z','')\n",
    "\n",
    "                row = [labellist[0].text, labellist[1].text, labellist[2].text]\n",
    "                row = [labellist[0].text,timestampStart,timestampEnd]\n",
    "                csv_writer.writerow(row)\n",
    "            \n",
    "        print('created labels for >>> ',filename)\n",
    "        \n",
    "    return"
   ]
  },
  {
   "cell_type": "markdown",
   "metadata": {},
   "source": [
    "# Create label files"
   ]
  },
  {
   "cell_type": "code",
   "execution_count": 5,
   "metadata": {},
   "outputs": [
    {
     "name": "stdout",
     "output_type": "stream",
     "text": [
      "created labels for >>>  G:\\JaimeMorales\\Codes\\omizunagidori\\database\\labels\\Omizunagidori2018_labels.csv\n",
      "created labels for >>>  G:\\JaimeMorales\\Codes\\omizunagidori\\database\\labels\\Omizunagidori2019_labels.csv\n",
      "created labels for >>>  G:\\JaimeMorales\\Codes\\omizunagidori\\database\\labels\\Omizunagidori2020_labels.csv\n",
      "created labels for >>>  G:\\JaimeMorales\\Codes\\omizunagidori\\database\\labels\\Omizunagidori2021_labels.csv\n",
      "created labels for >>>  G:\\JaimeMorales\\Codes\\omizunagidori\\database\\labels\\Omizunagidori2022_labels.csv\n"
     ]
    }
   ],
   "source": [
    "label_path_o = os.path.join(omizu_path,'labels')\n",
    "label_paths_o = find_xml_filenames(label_path_o)\n",
    "make_labels(label_paths_o, r'G:\\JaimeMorales\\Codes\\omizunagidori\\database\\labels', fn_end = 17)"
   ]
  },
  {
   "cell_type": "code",
   "execution_count": 6,
   "metadata": {},
   "outputs": [
    {
     "name": "stdout",
     "output_type": "stream",
     "text": [
      "created labels for >>>  G:\\JaimeMorales\\Codes\\omizunagidori\\database\\labels\\Umineko2018_labels.csv\n",
      "created labels for >>>  G:\\JaimeMorales\\Codes\\omizunagidori\\database\\labels\\Umineko2019_labels.csv\n",
      "created labels for >>>  G:\\JaimeMorales\\Codes\\omizunagidori\\database\\labels\\Umineko2022_labels.csv\n"
     ]
    }
   ],
   "source": [
    "label_path_u = os.path.join(umineko_path,'labels')\n",
    "label_paths_u = find_xml_filenames(label_path_u)\n",
    "make_labels(label_paths_u, r'G:\\JaimeMorales\\Codes\\omizunagidori\\database\\labels', fn_end = 11)"
   ]
  },
  {
   "cell_type": "markdown",
   "metadata": {},
   "source": [
    "# Separate sensors"
   ]
  },
  {
   "cell_type": "markdown",
   "metadata": {},
   "source": [
    "## Omizunagidori filenames"
   ]
  },
  {
   "cell_type": "markdown",
   "metadata": {},
   "source": [
    "### 2018 file names"
   ]
  },
  {
   "cell_type": "code",
   "execution_count": 7,
   "metadata": {},
   "outputs": [],
   "source": [
    "O_Y18_save_folder = os.path.join(database_o_acc_path,'2018')\n",
    "O_Y18_raw_path = os.path.join(omizu_path,'raw')\n",
    "O_Y18_raw_paths = find_csv_filenames(O_Y18_raw_path, suffix = \".csv\", year = '2018')"
   ]
  },
  {
   "cell_type": "markdown",
   "metadata": {},
   "source": [
    "### 2019 file names"
   ]
  },
  {
   "cell_type": "code",
   "execution_count": 8,
   "metadata": {},
   "outputs": [],
   "source": [
    "O_Y19_save_folder = os.path.join(database_o_acc_path,'2019')\n",
    "O_Y19_raw_path = os.path.join(omizu_path,'raw')\n",
    "O_Y19_raw_paths = find_csv_filenames(O_Y19_raw_path, suffix = \".csv\", year = '2019')"
   ]
  },
  {
   "cell_type": "markdown",
   "metadata": {},
   "source": [
    "### 2020 file names"
   ]
  },
  {
   "cell_type": "code",
   "execution_count": 9,
   "metadata": {},
   "outputs": [],
   "source": [
    "O_Y20_save_folder = os.path.join(database_o_acc_path,'2020')\n",
    "O_Y20_raw_path = os.path.join(omizu_path,'raw')\n",
    "O_Y20_raw_paths = find_csv_filenames(O_Y20_raw_path, suffix = \".csv\", year = '2020')"
   ]
  },
  {
   "cell_type": "markdown",
   "metadata": {},
   "source": [
    "### 2021 file names"
   ]
  },
  {
   "cell_type": "code",
   "execution_count": 10,
   "metadata": {},
   "outputs": [],
   "source": [
    "O_Y21_save_folder = os.path.join(database_o_acc_path,'2021')\n",
    "O_Y21_raw_path = os.path.join(omizu_path,'raw')\n",
    "O_Y21_raw_paths = find_csv_filenames(O_Y21_raw_path, suffix = \".csv\", year = '2021')"
   ]
  },
  {
   "cell_type": "markdown",
   "metadata": {},
   "source": [
    "### 2022 file names"
   ]
  },
  {
   "cell_type": "code",
   "execution_count": 11,
   "metadata": {},
   "outputs": [],
   "source": [
    "O_Y22_save_folder = os.path.join(database_o_acc_path,'2022')\n",
    "O_Y22_raw_path = os.path.join(omizu_path,'raw')\n",
    "O_Y22_raw_paths = find_csv_filenames(O_Y22_raw_path, suffix = \".csv\", year = '2022')"
   ]
  },
  {
   "cell_type": "markdown",
   "metadata": {},
   "source": [
    "### ALL Omizunagidori files"
   ]
  },
  {
   "cell_type": "code",
   "execution_count": 12,
   "metadata": {},
   "outputs": [],
   "source": [
    "O_all_save_folder = [O_Y18_save_folder, O_Y19_save_folder, O_Y20_save_folder, O_Y21_save_folder, O_Y22_save_folder]\n",
    "O_all_raw_paths = [O_Y18_raw_paths, O_Y19_raw_paths, O_Y20_raw_paths, O_Y21_raw_paths, O_Y22_raw_paths]"
   ]
  },
  {
   "cell_type": "markdown",
   "metadata": {},
   "source": [
    "## Umineko filenames"
   ]
  },
  {
   "cell_type": "markdown",
   "metadata": {},
   "source": [
    "### 2018 file names"
   ]
  },
  {
   "cell_type": "code",
   "execution_count": 13,
   "metadata": {},
   "outputs": [],
   "source": [
    "U_Y18_save_folder = os.path.join(database_u_acc_path,'2018')\n",
    "U_Y18_raw_path = os.path.join(umineko_path,'raw')\n",
    "U_Y18_raw_paths = find_csv_filenames(U_Y18_raw_path, suffix = \".csv\", year = '2018')"
   ]
  },
  {
   "cell_type": "markdown",
   "metadata": {},
   "source": [
    "### 2019 file names"
   ]
  },
  {
   "cell_type": "code",
   "execution_count": 14,
   "metadata": {},
   "outputs": [],
   "source": [
    "U_Y19_save_folder = os.path.join(database_u_acc_path,'2019')\n",
    "U_Y19_raw_path = os.path.join(umineko_path,'raw')\n",
    "U_Y19_raw_paths = find_csv_filenames(U_Y19_raw_path, suffix = \".csv\", year = '2019')"
   ]
  },
  {
   "cell_type": "markdown",
   "metadata": {},
   "source": [
    "### 2022 file names"
   ]
  },
  {
   "cell_type": "code",
   "execution_count": 15,
   "metadata": {},
   "outputs": [],
   "source": [
    "U_Y22_save_folder = os.path.join(database_u_acc_path,'2022')\n",
    "U_Y22_raw_path = os.path.join(umineko_path,'raw')\n",
    "U_Y22_raw_paths = find_csv_filenames(U_Y22_raw_path, suffix = \".csv\", year = '2022')"
   ]
  },
  {
   "cell_type": "markdown",
   "metadata": {},
   "source": [
    "### All umineko files"
   ]
  },
  {
   "cell_type": "code",
   "execution_count": 16,
   "metadata": {},
   "outputs": [],
   "source": [
    "U_all_save_folder = [U_Y18_save_folder, U_Y19_save_folder, U_Y22_save_folder]\n",
    "U_all_raw_paths = [U_Y18_raw_paths, U_Y19_raw_paths, U_Y22_raw_paths]"
   ]
  },
  {
   "cell_type": "markdown",
   "metadata": {},
   "source": [
    "# Sensor specific dataframe creation"
   ]
  },
  {
   "cell_type": "code",
   "execution_count": 17,
   "metadata": {},
   "outputs": [],
   "source": [
    "def separate_by_sensor(filename, save_folder, sensor='acc', time_format=\"%Y%m%d_%H:%M:%S.%f\"):\n",
    "    data = pd.read_csv(filename, parse_dates=[\"timestamp\"])    \n",
    "    data[\"timestamp\"] = pd.to_datetime(data[\"timestamp\"],format=time_format)\n",
    "    \n",
    "    if sensor == 'acc':\n",
    "        new_df = data.drop(['logger_id', 'latitude', 'longitude', 'gps_status', 'gyro_x', 'gyro_y', 'gyro_z', 'mag_x', 'mag_y', 'mag_z', 'illumination', 'pressure', 'temperature'],axis=1)\n",
    "    else:\n",
    "        new_df = data\n",
    "        \n",
    "    name = filename[-11:-4]\n",
    "    name = name.replace('_','')\n",
    "    name = name.replace('00','')\n",
    "    save_name = os.path.join(save_folder,name+'_acc.csv')\n",
    "    new_df.to_csv(save_name,index=False)\n",
    "    \n",
    "    data_df = pd.read_csv(save_name, parse_dates=[\"timestamp\"])\n",
    "    #data_df = new_df\n",
    "    l = []\n",
    "    #for i in range(len(data)):\n",
    "        #l.append(data_df['timestamp'][i].replace('+00:00',''))\n",
    "    #data_df['timestamp'] = l\n",
    "    #data_df['timestamp'][0] = data_df['timestamp'][0]+'.000000'\n",
    "    \n",
    "    #data_df = pd.to_datetime(data_df[\"timestamp\"],format=time_format)\n",
    "    \n",
    "    data_df = time_change(data_df)\n",
    "    \n",
    "    #data_df.to_csv(os.path.join(save_folder,name+'t_acc.csv'),index=False)\n",
    "    return data_df\n",
    "    \n",
    "def join_by_year(read_dir):\n",
    "    pre_df_fn = os.listdir(read_dir)[0]\n",
    "    pre_df = pd.read_csv(os.path.join(read_dir, pre_df_fn),parse_dates=[\"timestamp\"])\n",
    "    all_bird_df = pd.DataFrame(columns = pre_df.columns)\n",
    "    all_bird_lst = []\n",
    "    for file in os.listdir(read_dir):\n",
    "        if file.endswith(\".csv\"):\n",
    "            path = os.path.join(read_dir, file)\n",
    "            print(os.path.join(read_dir, file))\n",
    "            df = pd.read_csv(path,parse_dates=[\"timestamp\"])\n",
    "            all_bird_lst.append(df)\n",
    "            #all_bird_df = all_bird_df._append(df, ignore_index=True)\n",
    "            #all_bird_df = pd.concat([all_bird_df,df])\n",
    "\n",
    "    all_bird_df = pd.concat(all_bird_lst)\n",
    "\n",
    "    birds = list(all_bird_df.drop_duplicates(subset=['animal_tag'],keep = 'first')['animal_tag'])\n",
    "    print(birds)\n",
    "    \n",
    "    #all_bird_df.to_csv(os.path.join(read_dir, 'all_bird_df.csv'),index=False)\n",
    "\n",
    "    #print(all_bird_df)\n",
    "\n",
    "    all_bird_df.drop(['activity_class'],axis = 1,inplace = True)\n",
    "    all_bird_df.dropna(inplace = True)\n",
    "    all_bird_df.reset_index(inplace = True)\n",
    "    all_bird_df.drop(['index'],axis = 1,inplace = True)\n",
    "    all_bird_df.to_csv(os.path.join(read_dir, 'all_bird_df_Y' + os.path.split(read_dir)[-1] +'_WL.csv'),index=False)\n",
    "    \n",
    "    labels_df = all_bird_df.drop_duplicates(subset=['label'],keep = 'first')['label']\n",
    "    labels_l = list(labels_df)\n",
    "    print('labels' + os.path.split(read_dir)[-1]+':')\n",
    "    print(labels_l)\n",
    "    labels_df.to_csv(os.path.join(read_dir, 'label_df_Y' + os.path.split(read_dir)[-1] +'.csv'),index=False)\n",
    "    \n",
    "    return all_bird_df"
   ]
  },
  {
   "cell_type": "markdown",
   "metadata": {},
   "source": [
    "## Create acc files - OMIZUNAGIDORI"
   ]
  },
  {
   "cell_type": "code",
   "execution_count": 18,
   "metadata": {},
   "outputs": [
    {
     "name": "stdout",
     "output_type": "stream",
     "text": [
      "Acc sensor df from:  G:\\JaimeMorales\\Codes\\omizunagidori\\export\\Omizunagidori\\raw\\Omizunagidori2018_raw_data_9B16995_lb0001.csv\n",
      "Saved to:  G:\\JaimeMorales\\Codes\\omizunagidori\\database\\omizunagidori\\2018\n",
      "Acc sensor df from:  G:\\JaimeMorales\\Codes\\omizunagidori\\export\\Omizunagidori\\raw\\Omizunagidori2018_raw_data_9B24590_lb0002.csv\n",
      "Saved to:  G:\\JaimeMorales\\Codes\\omizunagidori\\database\\omizunagidori\\2018\n",
      "Acc sensor df from:  G:\\JaimeMorales\\Codes\\omizunagidori\\export\\Omizunagidori\\raw\\Omizunagidori2018_raw_data_9B34075_lb0003.csv\n",
      "Saved to:  G:\\JaimeMorales\\Codes\\omizunagidori\\database\\omizunagidori\\2018\n",
      "Acc sensor df from:  G:\\JaimeMorales\\Codes\\omizunagidori\\export\\Omizunagidori\\raw\\Omizunagidori2018_raw_data_9B36347_lb0004.csv\n",
      "Saved to:  G:\\JaimeMorales\\Codes\\omizunagidori\\database\\omizunagidori\\2018\n",
      "Acc sensor df from:  G:\\JaimeMorales\\Codes\\omizunagidori\\export\\Omizunagidori\\raw\\Omizunagidori2018_raw_data_9B36360_lb0005.csv\n",
      "Saved to:  G:\\JaimeMorales\\Codes\\omizunagidori\\database\\omizunagidori\\2018\n",
      "Acc sensor df from:  G:\\JaimeMorales\\Codes\\omizunagidori\\export\\Omizunagidori\\raw\\Omizunagidori2018_raw_data_9B36365_lb0006.csv\n",
      "Saved to:  G:\\JaimeMorales\\Codes\\omizunagidori\\database\\omizunagidori\\2018\n",
      "Acc sensor df from:  G:\\JaimeMorales\\Codes\\omizunagidori\\export\\Omizunagidori\\raw\\Omizunagidori2018_raw_data_9B36547_lb0007.csv\n",
      "Saved to:  G:\\JaimeMorales\\Codes\\omizunagidori\\database\\omizunagidori\\2018\n",
      "Acc sensor df from:  G:\\JaimeMorales\\Codes\\omizunagidori\\export\\Omizunagidori\\raw\\Omizunagidori2018_raw_data_9B36577_lb0008.csv\n",
      "Saved to:  G:\\JaimeMorales\\Codes\\omizunagidori\\database\\omizunagidori\\2018\n",
      "Acc sensor df from:  G:\\JaimeMorales\\Codes\\omizunagidori\\export\\Omizunagidori\\raw\\Omizunagidori2018_raw_data_9B36578_lb0009.csv\n",
      "Saved to:  G:\\JaimeMorales\\Codes\\omizunagidori\\database\\omizunagidori\\2018\n",
      "Acc sensor df from:  G:\\JaimeMorales\\Codes\\omizunagidori\\export\\Omizunagidori\\raw\\Omizunagidori2018_raw_data_9B36580_lb0010.csv\n",
      "Saved to:  G:\\JaimeMorales\\Codes\\omizunagidori\\database\\omizunagidori\\2018\n"
     ]
    }
   ],
   "source": [
    "O_all_bird_Y_df_l = []\n",
    "year_df_t_l = []\n",
    "\n",
    "for i in range(len(O_all_save_folder)):\n",
    "    bird_df_t_l =[]\n",
    "    for raw_path in O_all_raw_paths[i]:\n",
    "        print('Acc sensor df from: ', raw_path)\n",
    "        print('Saved to: ', O_all_save_folder[i]) \n",
    "        bird_acc_df = separate_by_sensor(raw_path,O_all_save_folder[i])\n",
    "        bird_df_t_l.append(bird_acc_df)\n",
    "    year_df_t = pd.concat(bird_df_t_l)\n",
    "    year_df_t_l.append(year_df_t)\n",
    "    all_bird = join_by_year(O_all_save_folder[i])\n",
    "    O_all_bird_Y_df_l.append(all_bird)\n",
    "\n",
    "\n",
    "Omizu_all_t_df = pd.concat(year_df_t_l)\n",
    "Omizu_all_t_df.drop(['activity_class'], axis=1, inplace=True)\n",
    "Omizu_all_t_df.dropna(inplace=True)\n",
    "#print('timechange dataframe: ')\n",
    "#print(Omizu_all_t_df)\n",
    "Omizu_all_t_df.to_csv(os.path.join(database_o_acc_path,'Omizu_all_t_df.csv'), index = False)\n",
    "Omizu_all_df = pd.concat(O_all_bird_Y_df_l)\n",
    "O_labels_df = pd.DataFrame(Omizu_all_df.drop_duplicates(subset=['label'],keep = 'first')['label'])\n",
    "O_labels_df.reset_index(inplace=True)\n",
    "O_labels_df.drop(['index'],axis=1,inplace=True)\n",
    "O_labels_df.to_csv(os.path.join(database_l_path,'O_labels_df.csv'),index = False)"
   ]
  },
  {
   "cell_type": "markdown",
   "metadata": {},
   "source": [
    "## Create acc files - UMINEKO"
   ]
  },
  {
   "cell_type": "code",
   "execution_count": null,
   "metadata": {},
   "outputs": [],
   "source": [
    "U_all_bird_Y_df_l = []\n",
    "year_df_t_l = []\n",
    "\n",
    "for i in range(len(U_all_save_folder)):\n",
    "    bird_df_t_l =[]\n",
    "    for raw_path in U_all_raw_paths[i]:\n",
    "        print('Acc sensor df from: ', raw_path)\n",
    "        print('Saved to: ', U_all_save_folder[i]) \n",
    "        bird_acc_df = separate_by_sensor(raw_path,U_all_save_folder[i])\n",
    "        bird_df_t_l.append(bird_acc_df)\n",
    "    year_df_t = pd.concat(bird_df_t_l)\n",
    "    year_df_t_l.append(year_df_t)\n",
    "    all_bird = join_by_year(U_all_save_folder[i])\n",
    "    U_all_bird_Y_df_l.append(all_bird)\n",
    "\n",
    "\n",
    "Umineko_all_t_df = pd.concat(year_df_t_l)\n",
    "Umineko_all_t_df.drop(['activity_class'], axis=1, inplace=True)\n",
    "Umineko_all_t_df.dropna(inplace=True)\n",
    "#print('timechange dataframe: ')\n",
    "#print(Umineko_all_t_df)\n",
    "Umineko_all_t_df.to_csv(os.path.join(database_u_acc_path,'Umineko_all_t_df.csv'), index = False)\n",
    "umineko_all_df = pd.concat(U_all_bird_Y_df_l)\n",
    "U_labels_df = pd.DataFrame(umineko_all_df.drop_duplicates(subset=['label'],keep = 'first')['label'])\n",
    "U_labels_df.reset_index(inplace=True)\n",
    "U_labels_df.drop(['index'],axis=1,inplace=True)\n",
    "U_labels_df.to_csv(os.path.join(database_l_path,'U_labels_df.csv'),index = False)"
   ]
  },
  {
   "cell_type": "markdown",
   "metadata": {},
   "source": [
    "# Assign labels, separate years, separate birds"
   ]
  },
  {
   "cell_type": "markdown",
   "metadata": {},
   "source": [
    "## Year times"
   ]
  },
  {
   "cell_type": "code",
   "execution_count": null,
   "metadata": {},
   "outputs": [],
   "source": [
    "def num_labels(acc_df,lab):\n",
    "    \n",
    "    new_df=acc_df\n",
    "    new_df['l_val']=100\n",
    "\n",
    "    i=0\n",
    "    for a in lab.label:\n",
    "        #print(a,':')\n",
    "        new_df.loc[new_df['label'] == a, 'l_val'] = i\n",
    "        #print(new_df)\n",
    "        i=i+1\n",
    "    \n",
    "    new_df.fillna(100,inplace=True)   \n",
    "    \n",
    "    return new_df\n",
    "\n",
    "def divide_years(acc_df,write_folder,year_times):\n",
    "    \n",
    "    new_df = acc_df\n",
    "    new_df['year']='0'\n",
    "    years = list(year_times.keys())\n",
    "\n",
    "    for year in years:\n",
    "        print(year_times[year][0])\n",
    "        year_df = new_df[new_df['timestamp']>year_times[year][0]]\n",
    "        year_df = year_df[year_df['timestamp']<year_times[year][1]]\n",
    "        new_df['year'] = np.where(new_df['timestamp'].between(year_times[year][0],year_times[year][1]), year, new_df['year'])\n",
    "        year_df = new_df[new_df['year']==year]\n",
    "        year_df.to_csv(os.path.join(write_folder,year,'l_'+year+'_acc.csv'),index = False)      "
   ]
  },
  {
   "cell_type": "markdown",
   "metadata": {},
   "source": [
    "### Load labels"
   ]
  },
  {
   "cell_type": "code",
   "execution_count": null,
   "metadata": {},
   "outputs": [],
   "source": [
    "omizu_labels_all_df = pd.read_csv(os.path.join(database_l_path,'O_labels_df.csv'))\n",
    "omizu_l_dict = omizu_labels_all_df['label'].to_dict()"
   ]
  },
  {
   "cell_type": "code",
   "execution_count": null,
   "metadata": {},
   "outputs": [],
   "source": [
    "umineko_labels_all_df = pd.read_csv(os.path.join(database_l_path,'U_labels_df.csv'))\n",
    "umineko_l_dict = umineko_labels_all_df['label'].to_dict()"
   ]
  },
  {
   "cell_type": "markdown",
   "metadata": {},
   "source": [
    "## Omizunagidori"
   ]
  },
  {
   "cell_type": "code",
   "execution_count": null,
   "metadata": {},
   "outputs": [],
   "source": [
    "o_year_times = {'2018':[1514768460000,1546304460000],'2019':[1546304460000,1577840460000],'2020':[1577840460000,1609462860000],'2021':[1609462860000,1640998860000],'2022':[1640998860000,1672534860000]}"
   ]
  },
  {
   "cell_type": "code",
   "execution_count": null,
   "metadata": {},
   "outputs": [],
   "source": [
    "Omizu_all_t_df = pd.read_csv(os.path.join(database_o_acc_path,'omizu_all_t_df.csv'))\n",
    "omizu_lab_all_df = num_labels(Omizu_all_t_df,omizu_labels_all_df)\n",
    "divide_years(omizu_lab_all_df,database_o_acc_path,o_year_times)"
   ]
  },
  {
   "cell_type": "markdown",
   "metadata": {},
   "source": [
    "## Umineko"
   ]
  },
  {
   "cell_type": "code",
   "execution_count": null,
   "metadata": {},
   "outputs": [],
   "source": [
    "u_year_times = {'2018':[1514768460000,1546304460000],'2019':[1546304460000,1577840460000],'2022':[1640998860000,1672534860000]}"
   ]
  },
  {
   "cell_type": "code",
   "execution_count": null,
   "metadata": {},
   "outputs": [],
   "source": [
    "Umineko_all_t_df = pd.read_csv(os.path.join(database_u_acc_path,'umineko_all_t_df.csv'))\n",
    "umineko_lab_all_df = num_labels(Umineko_all_t_df,umineko_labels_all_df)\n",
    "divide_years(umineko_lab_all_df,database_u_acc_path,u_year_times)"
   ]
  },
  {
   "cell_type": "markdown",
   "metadata": {},
   "source": [
    "# Vizualize transformed data\n",
    "## Load DataFrame"
   ]
  },
  {
   "cell_type": "code",
   "execution_count": null,
   "metadata": {},
   "outputs": [],
   "source": [
    "viz_path = r\"G:\\JaimeMorales\\Codes\\omizunagidori\\database\\omizunagidori\\2022\\l_2022_acc.csv\""
   ]
  },
  {
   "cell_type": "code",
   "execution_count": null,
   "metadata": {},
   "outputs": [],
   "source": [
    "viz_df = pd.read_csv(viz_path,parse_dates=[\"timestamp\"])\n",
    "viz_df"
   ]
  },
  {
   "cell_type": "code",
   "execution_count": null,
   "metadata": {},
   "outputs": [],
   "source": [
    "bird_df = viz_df[viz_df['animal_tag']=='LB01']\n",
    "bird_df"
   ]
  },
  {
   "cell_type": "code",
   "execution_count": null,
   "metadata": {},
   "outputs": [],
   "source": [
    "bird_l_df = bird_df[bird_df['label']!='unknown']\n",
    "bird_l_df"
   ]
  },
  {
   "cell_type": "code",
   "execution_count": null,
   "metadata": {},
   "outputs": [],
   "source": [
    "view_df = bird_l_df\n"
   ]
  },
  {
   "cell_type": "code",
   "execution_count": null,
   "metadata": {},
   "outputs": [],
   "source": [
    "def plot_two_data_segments(data, start_idx, lenght, label_name = \"l_val\"):\n",
    "    \n",
    "    fig = plt.figure(num=1, figsize=(50,30), dpi=300)\n",
    "    axL = fig.add_axes([0, 0, 1, 1])\n",
    "    plot_one_data_segment(axL, data, start_idx, lenght, label_name = label_name)\n",
    "    fig.savefig(r\"G:\\JaimeMorales\\Codes\\omizunagidori\\figures\\timeseries.svg\", format = 'svg', dpi=500, bbox_inches = 'tight')\n",
    "    fig.tight_layout()\n",
    "    fig.show()\n",
    "    \n",
    "def plot_one_data_segment(ax, data, start_idx, length, label_name = \"label\"):\n",
    "    if start_idx + length > len(data) - 1:\n",
    "        start_idx = len(data) - 1 - length\n",
    "    if start_idx < 0:\n",
    "        start_idx = 0\n",
    "    ax.plot(data[\"timestamp\"][start_idx:start_idx + length], data['acc_x'][start_idx:start_idx + length], '-' , color = 'red', linewidth=12)\n",
    "    ax.plot(data[\"timestamp\"][start_idx:start_idx + length], data['acc_y'][start_idx:start_idx + length], '-' , color = 'green', linewidth=12)\n",
    "    ax.plot(data[\"timestamp\"][start_idx:start_idx + length], data['acc_z'][start_idx:start_idx + length], '-' , color = 'blue', linewidth=12)\n",
    "    ax.tick_params(axis='x', which='both', bottom=False, top=False, labelbottom=False)\n",
    "    ax.tick_params(axis='y', which='both', bottom=False, top=False, labelbottom=False)\n",
    "    #ax.set_xlabel(\"time [s]\")"
   ]
  },
  {
   "cell_type": "markdown",
   "metadata": {},
   "source": [
    "## Plot dataset"
   ]
  },
  {
   "cell_type": "code",
   "execution_count": null,
   "metadata": {},
   "outputs": [],
   "source": [
    "plot_two_data_segments(viz_df, 12000, 2000)"
   ]
  }
 ],
 "metadata": {
  "kernelspec": {
   "display_name": "Python 3",
   "language": "python",
   "name": "python3"
  },
  "language_info": {
   "codemirror_mode": {
    "name": "ipython",
    "version": 3
   },
   "file_extension": ".py",
   "mimetype": "text/x-python",
   "name": "python",
   "nbconvert_exporter": "python",
   "pygments_lexer": "ipython3",
   "version": "3.10.9"
  }
 },
 "nbformat": 4,
 "nbformat_minor": 4
}
